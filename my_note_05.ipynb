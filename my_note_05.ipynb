{
 "cells": [
  {
   "cell_type": "markdown",
   "metadata": {},
   "source": [
    "# Backpropagation"
   ]
  },
  {
   "cell_type": "code",
   "execution_count": 11,
   "metadata": {},
   "outputs": [],
   "source": [
    "import numpy as np"
   ]
  },
  {
   "cell_type": "code",
   "execution_count": 1,
   "metadata": {},
   "outputs": [],
   "source": [
    "class MulLayer:\n",
    "    def __init__(self):\n",
    "        self.x = None\n",
    "        self.y = None\n",
    "    \n",
    "    def forward(self, x, y):\n",
    "        self.x = x\n",
    "        self.y = y\n",
    "        out = x * y\n",
    "        return out\n",
    "    \n",
    "    def backward(self, dout):\n",
    "        dx = dout * self.y\n",
    "        dy = dout * self.x\n",
    "        return dx, dy"
   ]
  },
  {
   "cell_type": "code",
   "execution_count": 2,
   "metadata": {},
   "outputs": [
    {
     "data": {
      "text/plain": [
       "220.00000000000003"
      ]
     },
     "execution_count": 2,
     "metadata": {},
     "output_type": "execute_result"
    }
   ],
   "source": [
    "apple = 100\n",
    "apple_num = 2\n",
    "tax = 1.1\n",
    "\n",
    "mul_apple_layer = MulLayer()\n",
    "mul_tax_layer = MulLayer()\n",
    "\n",
    "apple_price = mul_apple_layer.forward(apple, apple_num)\n",
    "price = mul_tax_layer.forward(apple_price, tax)\n",
    "\n",
    "price"
   ]
  },
  {
   "cell_type": "code",
   "execution_count": 4,
   "metadata": {},
   "outputs": [
    {
     "name": "stdout",
     "output_type": "stream",
     "text": [
      "dapple_price: 1.1\n",
      "dtax: 200\n",
      "dapple: 2.2\n",
      "dapple_num: 110.00000000000001\n"
     ]
    }
   ],
   "source": [
    "dprice = 1\n",
    "\n",
    "dapple_price, dtax = mul_tax_layer.backward(dprice)\n",
    "dapple, dapple_num = mul_apple_layer.backward(dapple_price)\n",
    "\n",
    "print('dapple_price: {}'.format(dapple_price))\n",
    "print('dtax: {}'.format(dtax))\n",
    "print('dapple: {}'.format(dapple))\n",
    "print('dapple_num: {}'.format(dapple_num))"
   ]
  },
  {
   "cell_type": "code",
   "execution_count": 8,
   "metadata": {},
   "outputs": [],
   "source": [
    "class AddLayer:\n",
    "    def __init__(self):\n",
    "        pass\n",
    "    \n",
    "    def forward(self, x, y):\n",
    "        return x + y\n",
    "    \n",
    "    def backward(self, dout):\n",
    "        return dout, dout"
   ]
  },
  {
   "cell_type": "code",
   "execution_count": 9,
   "metadata": {},
   "outputs": [
    {
     "name": "stdout",
     "output_type": "stream",
     "text": [
      "apple_price: 200\n",
      "orange_price: 450\n",
      "price_before_tax: 650\n",
      "price: 715.0000000000001\n",
      "\n",
      "dprice: 1\n",
      "dprice_before_tax: 1.1\n",
      "dapple_price: 1.1\n",
      "dorange_price: 1.1\n",
      "dapple: 2.2\n",
      "dorange: 3.3000000000000003\n",
      "dapple_num: 110.00000000000001\n",
      "dorange_num: 165.0\n"
     ]
    }
   ],
   "source": [
    "apple = 100\n",
    "apple_num = 2\n",
    "orange = 150\n",
    "orange_num = 3\n",
    "tax = 1.1\n",
    "\n",
    "mul_apple_layer, mul_orange_layer, mul_tax_layer = MulLayer(), MulLayer(), MulLayer()\n",
    "add_apple_orange_layer = AddLayer()\n",
    "\n",
    "apple_price, orange_price = mul_apple_layer.forward(apple, apple_num), mul_orange_layer.forward(orange, orange_num)\n",
    "price_before_tax = add_apple_orange_layer.forward(apple_price, orange_price)\n",
    "price = mul_tax_layer.forward(price_before_tax, tax)\n",
    "\n",
    "print('apple_price: {}'.format(apple_price))\n",
    "print('orange_price: {}'.format(orange_price))\n",
    "print('price_before_tax: {}'.format(price_before_tax))\n",
    "print('price: {}'.format(price))\n",
    "print()\n",
    "\n",
    "dprice = 1\n",
    "dprice_before_tax, dtax = mul_tax_layer.backward(dprice)\n",
    "dapple_price, dorange_price = add_apple_orange_layer.backward(dprice_before_tax)\n",
    "dapple, dapple_num = mul_apple_layer.backward(dapple_price)\n",
    "dorange, dorange_num = mul_orange_layer.backward(dorange_price)\n",
    "\n",
    "print('dprice: {}'.format(dprice))\n",
    "print('dprice_before_tax: {}'.format(dprice_before_tax))\n",
    "print('dapple_price: {}'.format(dapple_price))\n",
    "print('dorange_price: {}'.format(dorange_price))\n",
    "print('dapple: {}'.format(dapple))\n",
    "print('dorange: {}'.format(dorange))\n",
    "print('dapple_num: {}'.format(dapple_num))\n",
    "print('dorange_num: {}'.format(dorange_num))"
   ]
  }
 ],
 "metadata": {
  "kernelspec": {
   "display_name": "Python 3",
   "language": "python",
   "name": "python3"
  },
  "language_info": {
   "codemirror_mode": {
    "name": "ipython",
    "version": 3
   },
   "file_extension": ".py",
   "mimetype": "text/x-python",
   "name": "python",
   "nbconvert_exporter": "python",
   "pygments_lexer": "ipython3",
   "version": "3.7.3"
  }
 },
 "nbformat": 4,
 "nbformat_minor": 2
}
